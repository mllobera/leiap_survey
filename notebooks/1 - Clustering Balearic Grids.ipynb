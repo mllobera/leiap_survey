{
 "cells": [
  {
   "cell_type": "markdown",
   "metadata": {},
   "source": [
    "# **1 - Clustering: Balearic Grids**"
   ]
  },
  {
   "cell_type": "markdown",
   "metadata": {},
   "source": [
    "##### Libraries"
   ]
  },
  {
   "cell_type": "code",
   "execution_count": 1,
   "metadata": {},
   "outputs": [],
   "source": [
    "import pandas as pd\n",
    "import numpy as np\n",
    "import matplotlib.pyplot as plt\n",
    "import matplotlib as mpl\n",
    "import seaborn as sns\n",
    "import geopandas as gpd\n",
    "import rasterio as rio\n",
    "import copy\n",
    "import leiap_survey.utils as utils\n",
    "\n",
    "\n",
    "from pathlib import Path\n",
    "from sklearn.cluster import SpectralBiclustering\n",
    "from tqdm.notebook import tnrange, tqdm"
   ]
  },
  {
   "cell_type": "markdown",
   "metadata": {},
   "source": [
    "# Read data"
   ]
  },
  {
   "cell_type": "markdown",
   "metadata": {},
   "source": [
    "##### Project main path"
   ]
  },
  {
   "cell_type": "code",
   "execution_count": 2,
   "metadata": {
    "tags": []
   },
   "outputs": [
    {
     "data": {
      "text/plain": [
       "WindowsPath('../data')"
      ]
     },
     "execution_count": 2,
     "metadata": {},
     "output_type": "execute_result"
    }
   ],
   "source": [
    "# Change path so that it points to  were data is located\n",
    "pth = Path(r'../data')\n",
    "pth "
   ]
  },
  {
   "cell_type": "markdown",
   "metadata": {},
   "source": [
    "### Read Geographic information "
   ]
  },
  {
   "cell_type": "markdown",
   "metadata": {},
   "source": [
    "##### Read 80 x 80m Grid\n",
    "This shapefile contains the survey area divided into 80 x80m"
   ]
  },
  {
   "cell_type": "code",
   "execution_count": 3,
   "metadata": {},
   "outputs": [
    {
     "data": {
      "text/plain": [
       "WindowsPath('../data/geography/grid80.shp')"
      ]
     },
     "execution_count": 3,
     "metadata": {},
     "output_type": "execute_result"
    }
   ],
   "source": [
    "fn = pth / 'geography' / 'grid80.shp'\n",
    "fn"
   ]
  },
  {
   "cell_type": "code",
   "execution_count": 4,
   "metadata": {},
   "outputs": [
    {
     "data": {
      "text/html": [
       "<div>\n",
       "<style scoped>\n",
       "    .dataframe tbody tr th:only-of-type {\n",
       "        vertical-align: middle;\n",
       "    }\n",
       "\n",
       "    .dataframe tbody tr th {\n",
       "        vertical-align: top;\n",
       "    }\n",
       "\n",
       "    .dataframe thead th {\n",
       "        text-align: right;\n",
       "    }\n",
       "</style>\n",
       "<table border=\"1\" class=\"dataframe\">\n",
       "  <thead>\n",
       "    <tr style=\"text-align: right;\">\n",
       "      <th></th>\n",
       "      <th>id</th>\n",
       "      <th>geometry</th>\n",
       "    </tr>\n",
       "  </thead>\n",
       "  <tbody>\n",
       "    <tr>\n",
       "      <th>0</th>\n",
       "      <td>0</td>\n",
       "      <td>POLYGON ((531966.615 4385295.031, 531966.615 4...</td>\n",
       "    </tr>\n",
       "    <tr>\n",
       "      <th>1</th>\n",
       "      <td>1</td>\n",
       "      <td>POLYGON ((532046.615 4385295.031, 532046.615 4...</td>\n",
       "    </tr>\n",
       "  </tbody>\n",
       "</table>\n",
       "</div>"
      ],
      "text/plain": [
       "   id                                           geometry\n",
       "0   0  POLYGON ((531966.615 4385295.031, 531966.615 4...\n",
       "1   1  POLYGON ((532046.615 4385295.031, 532046.615 4..."
      ]
     },
     "execution_count": 4,
     "metadata": {},
     "output_type": "execute_result"
    }
   ],
   "source": [
    "grid = gpd.read_file(fn, encoding= 'utf-8')\n",
    "grid = grid.reset_index()\n",
    "del grid['Id']\n",
    "grid = grid.rename( columns = {'index': 'id'})\n",
    "\n",
    "grid.head(2)"
   ]
  },
  {
   "cell_type": "markdown",
   "metadata": {},
   "source": [
    "### Read Balearic survey data by grid (80x80m)c\n",
    "The following files contain the distribution of Balearic pottery found in each grid cell organized by original production and pottery type"
   ]
  },
  {
   "cell_type": "code",
   "execution_count": 5,
   "metadata": {},
   "outputs": [
    {
     "data": {
      "text/html": [
       "<div>\n",
       "<style scoped>\n",
       "    .dataframe tbody tr th:only-of-type {\n",
       "        vertical-align: middle;\n",
       "    }\n",
       "\n",
       "    .dataframe tbody tr th {\n",
       "        vertical-align: top;\n",
       "    }\n",
       "\n",
       "    .dataframe thead th {\n",
       "        text-align: right;\n",
       "    }\n",
       "</style>\n",
       "<table border=\"1\" class=\"dataframe\">\n",
       "  <thead>\n",
       "    <tr style=\"text-align: right;\">\n",
       "      <th></th>\n",
       "      <th>grid80</th>\n",
       "      <th>Amphora</th>\n",
       "      <th>Coarseware</th>\n",
       "      <th>Commonware</th>\n",
       "      <th>Fineware</th>\n",
       "    </tr>\n",
       "  </thead>\n",
       "  <tbody>\n",
       "    <tr>\n",
       "      <th>0</th>\n",
       "      <td>2</td>\n",
       "      <td>1.0</td>\n",
       "      <td>1.0</td>\n",
       "      <td>0.0</td>\n",
       "      <td>0.0</td>\n",
       "    </tr>\n",
       "    <tr>\n",
       "      <th>1</th>\n",
       "      <td>11</td>\n",
       "      <td>1.0</td>\n",
       "      <td>0.0</td>\n",
       "      <td>0.0</td>\n",
       "      <td>0.0</td>\n",
       "    </tr>\n",
       "    <tr>\n",
       "      <th>2</th>\n",
       "      <td>13</td>\n",
       "      <td>1.0</td>\n",
       "      <td>0.0</td>\n",
       "      <td>0.0</td>\n",
       "      <td>0.0</td>\n",
       "    </tr>\n",
       "  </tbody>\n",
       "</table>\n",
       "</div>"
      ],
      "text/plain": [
       "   grid80  Amphora  Coarseware  Commonware  Fineware\n",
       "0       2      1.0         1.0         0.0       0.0\n",
       "1      11      1.0         0.0         0.0       0.0\n",
       "2      13      1.0         0.0         0.0       0.0"
      ]
     },
     "execution_count": 5,
     "metadata": {},
     "output_type": "execute_result"
    }
   ],
   "source": [
    "# read types\n",
    "fn = pth / 'artifacts' / 'by_grid'/ 'grid80_types.txt'\n",
    "grid_types = pd.read_csv(fn)\n",
    "grid_types.head(3)"
   ]
  },
  {
   "cell_type": "code",
   "execution_count": 6,
   "metadata": {},
   "outputs": [
    {
     "data": {
      "text/html": [
       "<div>\n",
       "<style scoped>\n",
       "    .dataframe tbody tr th:only-of-type {\n",
       "        vertical-align: middle;\n",
       "    }\n",
       "\n",
       "    .dataframe tbody tr th {\n",
       "        vertical-align: top;\n",
       "    }\n",
       "\n",
       "    .dataframe thead th {\n",
       "        text-align: right;\n",
       "    }\n",
       "</style>\n",
       "<table border=\"1\" class=\"dataframe\">\n",
       "  <thead>\n",
       "    <tr style=\"text-align: right;\">\n",
       "      <th></th>\n",
       "      <th>grid80</th>\n",
       "      <th>AtBlckGlz</th>\n",
       "      <th>Balearic</th>\n",
       "      <th>CamBlckGlzA</th>\n",
       "      <th>CamBlckGlzB</th>\n",
       "      <th>CmedPuAm</th>\n",
       "      <th>EbBlckGlz</th>\n",
       "      <th>EbPuAm</th>\n",
       "      <th>EbPuCom</th>\n",
       "      <th>GrItAm</th>\n",
       "      <th>IbAm</th>\n",
       "      <th>IbCom</th>\n",
       "      <th>ItAm</th>\n",
       "      <th>ItCom</th>\n",
       "      <th>MasAm</th>\n",
       "      <th>PuAm</th>\n",
       "      <th>PuCom</th>\n",
       "      <th>SoItVesCaAm</th>\n",
       "    </tr>\n",
       "  </thead>\n",
       "  <tbody>\n",
       "    <tr>\n",
       "      <th>0</th>\n",
       "      <td>2</td>\n",
       "      <td>0.0</td>\n",
       "      <td>8.4</td>\n",
       "      <td>0.0</td>\n",
       "      <td>0.0</td>\n",
       "      <td>0.0</td>\n",
       "      <td>0.0</td>\n",
       "      <td>45.3</td>\n",
       "      <td>0.0</td>\n",
       "      <td>0.0</td>\n",
       "      <td>0.0</td>\n",
       "      <td>0.0</td>\n",
       "      <td>0.0</td>\n",
       "      <td>0.0</td>\n",
       "      <td>0.0</td>\n",
       "      <td>0.0</td>\n",
       "      <td>0.0</td>\n",
       "      <td>0.0</td>\n",
       "    </tr>\n",
       "    <tr>\n",
       "      <th>1</th>\n",
       "      <td>11</td>\n",
       "      <td>0.0</td>\n",
       "      <td>0.0</td>\n",
       "      <td>0.0</td>\n",
       "      <td>0.0</td>\n",
       "      <td>0.0</td>\n",
       "      <td>0.0</td>\n",
       "      <td>6.5</td>\n",
       "      <td>0.0</td>\n",
       "      <td>0.0</td>\n",
       "      <td>0.0</td>\n",
       "      <td>0.0</td>\n",
       "      <td>0.0</td>\n",
       "      <td>0.0</td>\n",
       "      <td>0.0</td>\n",
       "      <td>0.0</td>\n",
       "      <td>0.0</td>\n",
       "      <td>0.0</td>\n",
       "    </tr>\n",
       "    <tr>\n",
       "      <th>2</th>\n",
       "      <td>13</td>\n",
       "      <td>0.0</td>\n",
       "      <td>0.0</td>\n",
       "      <td>0.0</td>\n",
       "      <td>0.0</td>\n",
       "      <td>0.0</td>\n",
       "      <td>0.0</td>\n",
       "      <td>38.5</td>\n",
       "      <td>0.0</td>\n",
       "      <td>0.0</td>\n",
       "      <td>0.0</td>\n",
       "      <td>0.0</td>\n",
       "      <td>0.0</td>\n",
       "      <td>0.0</td>\n",
       "      <td>0.0</td>\n",
       "      <td>0.0</td>\n",
       "      <td>0.0</td>\n",
       "      <td>0.0</td>\n",
       "    </tr>\n",
       "  </tbody>\n",
       "</table>\n",
       "</div>"
      ],
      "text/plain": [
       "   grid80  AtBlckGlz  Balearic  CamBlckGlzA  CamBlckGlzB  CmedPuAm  EbBlckGlz  \\\n",
       "0       2        0.0       8.4          0.0          0.0       0.0        0.0   \n",
       "1      11        0.0       0.0          0.0          0.0       0.0        0.0   \n",
       "2      13        0.0       0.0          0.0          0.0       0.0        0.0   \n",
       "\n",
       "   EbPuAm  EbPuCom  GrItAm  IbAm  IbCom  ItAm  ItCom  MasAm  PuAm  PuCom  \\\n",
       "0    45.3      0.0     0.0   0.0    0.0   0.0    0.0    0.0   0.0    0.0   \n",
       "1     6.5      0.0     0.0   0.0    0.0   0.0    0.0    0.0   0.0    0.0   \n",
       "2    38.5      0.0     0.0   0.0    0.0   0.0    0.0    0.0   0.0    0.0   \n",
       "\n",
       "   SoItVesCaAm  \n",
       "0          0.0  \n",
       "1          0.0  \n",
       "2          0.0  "
      ]
     },
     "execution_count": 6,
     "metadata": {},
     "output_type": "execute_result"
    }
   ],
   "source": [
    "# read productions\n",
    "fn = pth / 'artifacts' / 'by_grid'/ 'grid80_productions.txt'\n",
    "grid_prods = pd.read_csv(fn)\n",
    "grid_prods.head(3)"
   ]
  },
  {
   "cell_type": "markdown",
   "metadata": {},
   "source": [
    "# Assemblage Clustering\n",
    "\n",
    "There are several options to do clustering based on binary data (presence and absence), here we will be using Spectral Biclustering."
   ]
  },
  {
   "cell_type": "markdown",
   "metadata": {},
   "source": [
    "##### Which dataset?"
   ]
  },
  {
   "cell_type": "code",
   "execution_count": 7,
   "metadata": {},
   "outputs": [],
   "source": [
    "data = grid_types"
   ]
  },
  {
   "cell_type": "markdown",
   "metadata": {},
   "source": [
    "For this method we want to use our own dissimilarity coefficient. In order to do this, we shall first create a function that takes four parameters (a, b, c, d) and calculates the dissimilarity coefficient for two rows or grid cells. The parameters correspond to the following table,\n",
    "\n",
    "|               |*Presence2*| *Absence2*|\n",
    "|:-------------:|:---------:|:---------:|\n",
    "|**_Presence1_**|     a     |     b     |\n",
    "|**_Absence1_** |     c     |     d     |\n",
    "\n",
    "Here *a* would correspond to the number of categories (= ceramic types) that are present in two rows or grid cells we are comparing, *b* would correspond to the number of types that are in row1 and not in row2 and so on. Once we have these counts we plug it in the following formula: \n",
    "\n",
    "$$ diss = \\frac{b+c}{5a + b + c + \\frac{d}{5}} $$\n",
    "\n",
    "to calculate a dissimilarity coefficient between the two rows (grid cells)"
   ]
  },
  {
   "cell_type": "markdown",
   "metadata": {},
   "source": [
    "#### Define *Assemblage* dissimilarity coefficient\n",
    "\n",
    "The following function defines the dissimilarity used to determine how di/similiar two grid cell are from each other based on the presence/absence of pottery types recovered within each grid cell. "
   ]
  },
  {
   "cell_type": "code",
   "execution_count": 8,
   "metadata": {},
   "outputs": [],
   "source": [
    "# Dissimilarity metric\n",
    "def mll(a,b,c,d, coefad=5, coefbc=1):\n",
    "    return (coefbc*b + coefbc*c) / (coefad*a + coefbc*b + coefbc*c + d/coefad)"
   ]
  },
  {
   "cell_type": "markdown",
   "metadata": {},
   "source": [
    "#### Create dissimilarity matrix"
   ]
  },
  {
   "cell_type": "code",
   "execution_count": 9,
   "metadata": {},
   "outputs": [],
   "source": [
    "# generate dissimilarity matrix\n",
    "from leiap_survey.cluster import create_binary_metric_matrix\n",
    "D_mll = create_binary_metric_matrix(data.values, mll)"
   ]
  },
  {
   "cell_type": "markdown",
   "metadata": {},
   "source": [
    "##### Silhouette Analysis\n",
    "Before clustering grid cells we use silhouette plots and coefficients to help determine what number of clusters we want to group our grid cells into"
   ]
  },
  {
   "cell_type": "code",
   "execution_count": 10,
   "metadata": {},
   "outputs": [
    {
     "name": "stdout",
     "output_type": "stream",
     "text": [
      "For n_clusters = 2 The average silhouette_score is : 0.6862391451553093\n",
      "For n_clusters = 3 The average silhouette_score is : 0.6773990110316647\n",
      "For n_clusters = 4 The average silhouette_score is : 0.7299622198086693\n",
      "For n_clusters = 5 The average silhouette_score is : 0.7942596783006292\n",
      "For n_clusters = 6 The average silhouette_score is : 0.8806737575911472\n",
      "For n_clusters = 7 The average silhouette_score is : 0.9189159195386286\n",
      "For n_clusters = 8 The average silhouette_score is : 0.9409140596371584\n",
      "For n_clusters = 9 The average silhouette_score is : 0.9851371951219511\n",
      "For n_clusters = 10 The average silhouette_score is : 0.9939024390243902\n"
     ]
    },
    {
     "data": {
      "image/png": "[encoded data removed]",
      "text/plain": [
       "<Figure size 1872x1152 with 9 Axes>"
      ]
     },
     "metadata": {
      "needs_background": "light"
     },
     "output_type": "display_data"
    }
   ],
   "source": [
    "# Generate silhouette plots and coefficients for different number of groups\n",
    "from leiap_survey.cluster import plot_silhouette\n",
    "\n",
    "clst_kw = {'random_state': 13, 'n_init':100, 'svd_method':'arpack'}\n",
    "plot_silhouette(D_mll, [2,3,4,5,6,7,8,9,10], SpectralBiclustering, clst_kw, func_lbl= lambda Clusterer: Clusterer.row_labels_,\n",
    "                save='silhouette_spectral', size=(26,16), colrow=(3,3))\n",
    "\n",
    "# Uncomment to save figure\n",
    "#plt.savefig(pth /'output'/ 'reading_traces' /'figures'/ 'Silhouette Plots.png', dpi=300)"
   ]
  },
  {
   "cell_type": "markdown",
   "metadata": {},
   "source": [
    "#### Run *Spectral biclustering* \n",
    "\n",
    "Spectral biclustering is used to cluster grid cells into seven categories using the dissimilarity matrix generated after applying the *new assemblage dissimilarity coefficient*."
   ]
  },
  {
   "cell_type": "code",
   "execution_count": 11,
   "metadata": {
    "tags": []
   },
   "outputs": [
    {
     "data": {
      "text/plain": [
       "SpectralBiclustering(n_clusters=7, n_init=100, random_state=13,\n",
       "                     svd_method='arpack')"
      ]
     },
     "execution_count": 11,
     "metadata": {},
     "output_type": "execute_result"
    }
   ],
   "source": [
    "# Run biclustering for 7 clusters\n",
    "Biclst = SpectralBiclustering(n_clusters=7, random_state= 13, n_init=100, svd_method='arpack')\n",
    "Biclst.fit(D_mll)"
   ]
  },
  {
   "cell_type": "code",
   "execution_count": 12,
   "metadata": {},
   "outputs": [],
   "source": [
    "# Generate a column for each grid cell with the label of the cluster it belongs to.\n",
    "from leiap_survey.cluster import sort_cluster_labels\n",
    "\n",
    "# sort cluster labels so that clusters with the largest number of elements have the smallest numerical label\n",
    "data['Biclst'] = sort_cluster_labels(Biclst.row_labels_)"
   ]
  },
  {
   "cell_type": "markdown",
   "metadata": {},
   "source": [
    "We merge our the results with the grid geopandas dataframe to identify each grid cell in this dataframe with its cluster label "
   ]
  },
  {
   "cell_type": "code",
   "execution_count": 13,
   "metadata": {},
   "outputs": [],
   "source": [
    "# merging the results of clustering with its spatial component\n",
    "grid_out = grid.merge(data[['grid80', 'Biclst']], left_on='id', right_on='grid80', how= 'inner')"
   ]
  },
  {
   "cell_type": "code",
   "execution_count": 14,
   "metadata": {},
   "outputs": [
    {
     "data": {
      "text/html": [
       "<div>\n",
       "<style scoped>\n",
       "    .dataframe tbody tr th:only-of-type {\n",
       "        vertical-align: middle;\n",
       "    }\n",
       "\n",
       "    .dataframe tbody tr th {\n",
       "        vertical-align: top;\n",
       "    }\n",
       "\n",
       "    .dataframe thead th {\n",
       "        text-align: right;\n",
       "    }\n",
       "</style>\n",
       "<table border=\"1\" class=\"dataframe\">\n",
       "  <thead>\n",
       "    <tr style=\"text-align: right;\">\n",
       "      <th></th>\n",
       "      <th>id</th>\n",
       "      <th>geometry</th>\n",
       "      <th>grid80</th>\n",
       "      <th>Biclst</th>\n",
       "    </tr>\n",
       "  </thead>\n",
       "  <tbody>\n",
       "    <tr>\n",
       "      <th>0</th>\n",
       "      <td>2</td>\n",
       "      <td>POLYGON ((532126.615 4385295.031, 532126.615 4...</td>\n",
       "      <td>2</td>\n",
       "      <td>4</td>\n",
       "    </tr>\n",
       "    <tr>\n",
       "      <th>1</th>\n",
       "      <td>11</td>\n",
       "      <td>POLYGON ((531806.615 4385535.031, 531806.615 4...</td>\n",
       "      <td>11</td>\n",
       "      <td>0</td>\n",
       "    </tr>\n",
       "    <tr>\n",
       "      <th>2</th>\n",
       "      <td>13</td>\n",
       "      <td>POLYGON ((531966.615 4385535.031, 531966.615 4...</td>\n",
       "      <td>13</td>\n",
       "      <td>0</td>\n",
       "    </tr>\n",
       "    <tr>\n",
       "      <th>3</th>\n",
       "      <td>14</td>\n",
       "      <td>POLYGON ((532046.615 4385535.031, 532046.615 4...</td>\n",
       "      <td>14</td>\n",
       "      <td>0</td>\n",
       "    </tr>\n",
       "  </tbody>\n",
       "</table>\n",
       "</div>"
      ],
      "text/plain": [
       "   id                                           geometry  grid80  Biclst\n",
       "0   2  POLYGON ((532126.615 4385295.031, 532126.615 4...       2       4\n",
       "1  11  POLYGON ((531806.615 4385535.031, 531806.615 4...      11       0\n",
       "2  13  POLYGON ((531966.615 4385535.031, 531966.615 4...      13       0\n",
       "3  14  POLYGON ((532046.615 4385535.031, 532046.615 4...      14       0"
      ]
     },
     "execution_count": 14,
     "metadata": {},
     "output_type": "execute_result"
    }
   ],
   "source": [
    "grid_out.head(4)"
   ]
  },
  {
   "cell_type": "code",
   "execution_count": 15,
   "metadata": {},
   "outputs": [],
   "source": [
    "# save clustered grids\n",
    "\n",
    "fn = pth / 'clustered' / 'assemblage' / 'grid' / 'cluster_grid80.shp'\n",
    "\n",
    "# Uncomment and change path above to save grid geopandas\n",
    "#grid_out.to_file(fn, index= False)"
   ]
  },
  {
   "cell_type": "code",
   "execution_count": null,
   "metadata": {},
   "outputs": [],
   "source": []
  }
 ],
 "metadata": {
  "interpreter": {
   "hash": "453bc5a53b24d7f319b4f2983131e291df89ea1ada5aef8cfd3839d8bea2c749"
  },
  "jupytext": {
   "formats": "ipynb,py:light"
  },
  "kernelspec": {
   "display_name": "Python 3.9.2 64-bit ('leiap21': conda)",
   "name": "python3"
  },
  "language_info": {
   "codemirror_mode": {
    "name": "ipython",
    "version": 3
   },
   "file_extension": ".py",
   "mimetype": "text/x-python",
   "name": "python",
   "nbconvert_exporter": "python",
   "pygments_lexer": "ipython3",
   "version": "3.9.2"
  }
 },
 "nbformat": 4,
 "nbformat_minor": 4
}
