{
 "cells": [
  {
   "cell_type": "markdown",
   "metadata": {},
   "source": [
    "# **1 - Clustering: Balearic SurveyPoints**"
   ]
  },
  {
   "cell_type": "markdown",
   "metadata": {},
   "source": [
    "##### Libraries"
   ]
  },
  {
   "cell_type": "code",
   "execution_count": 1,
   "metadata": {},
   "outputs": [],
   "source": [
    "import pandas as pd\n",
    "import numpy as np\n",
    "import matplotlib.pyplot as plt\n",
    "from pathlib import Path\n",
    "from sklearn.cluster import DBSCAN"
   ]
  },
  {
   "cell_type": "markdown",
   "metadata": {},
   "source": [
    "# Read data"
   ]
  },
  {
   "cell_type": "markdown",
   "metadata": {},
   "source": [
    "##### Project main path"
   ]
  },
  {
   "cell_type": "code",
   "execution_count": 2,
   "metadata": {
    "tags": []
   },
   "outputs": [
    {
     "data": {
      "text/plain": [
       "WindowsPath('../data')"
      ]
     },
     "execution_count": 2,
     "metadata": {},
     "output_type": "execute_result"
    }
   ],
   "source": [
    "# Change path so that it points to  were data is located\n",
    "pth = Path(r'..\\data')\n",
    "pth"
   ]
  },
  {
   "cell_type": "markdown",
   "metadata": {},
   "source": [
    "### Read Balearic survey data\n",
    "This csv file contains the identifier of each survey point and its easting and northing. It also contains the presence ceramic types at each point. This file has been generated after selecting those survey points with diagnostic wares for the Balearic period."
   ]
  },
  {
   "cell_type": "code",
   "execution_count": 3,
   "metadata": {},
   "outputs": [
    {
     "data": {
      "text/plain": [
       "(832, 4)"
      ]
     },
     "execution_count": 3,
     "metadata": {},
     "output_type": "execute_result"
    }
   ],
   "source": [
    "fn =pth / 'artifacts' / 'by_pts' / 'balearic_presence_types.txt'\n",
    "data= pd.read_csv(fn, index_col= ['SurveyPointId', 'Easting', 'Northing'])\n",
    "data.shape"
   ]
  },
  {
   "cell_type": "code",
   "execution_count": 4,
   "metadata": {},
   "outputs": [
    {
     "data": {
      "text/html": [
       "<div>\n",
       "<style scoped>\n",
       "    .dataframe tbody tr th:only-of-type {\n",
       "        vertical-align: middle;\n",
       "    }\n",
       "\n",
       "    .dataframe tbody tr th {\n",
       "        vertical-align: top;\n",
       "    }\n",
       "\n",
       "    .dataframe thead th {\n",
       "        text-align: right;\n",
       "    }\n",
       "</style>\n",
       "<table border=\"1\" class=\"dataframe\">\n",
       "  <thead>\n",
       "    <tr style=\"text-align: right;\">\n",
       "      <th></th>\n",
       "      <th></th>\n",
       "      <th></th>\n",
       "      <th>Amphora</th>\n",
       "      <th>Coarseware</th>\n",
       "      <th>Commonware</th>\n",
       "      <th>Fineware</th>\n",
       "    </tr>\n",
       "    <tr>\n",
       "      <th>SurveyPointId</th>\n",
       "      <th>Easting</th>\n",
       "      <th>Northing</th>\n",
       "      <th></th>\n",
       "      <th></th>\n",
       "      <th></th>\n",
       "      <th></th>\n",
       "    </tr>\n",
       "  </thead>\n",
       "  <tbody>\n",
       "    <tr>\n",
       "      <th>02001d-77-012</th>\n",
       "      <th>531989.73</th>\n",
       "      <th>4385614.15</th>\n",
       "      <td>1.0</td>\n",
       "      <td>0.0</td>\n",
       "      <td>0.0</td>\n",
       "      <td>0.0</td>\n",
       "    </tr>\n",
       "    <tr>\n",
       "      <th>02001d-80-008</th>\n",
       "      <th>531872.15</th>\n",
       "      <th>4385569.72</th>\n",
       "      <td>1.0</td>\n",
       "      <td>0.0</td>\n",
       "      <td>0.0</td>\n",
       "      <td>0.0</td>\n",
       "    </tr>\n",
       "    <tr>\n",
       "      <th>02001d-82-024</th>\n",
       "      <th>532116.88</th>\n",
       "      <th>4385546.76</th>\n",
       "      <td>1.0</td>\n",
       "      <td>0.0</td>\n",
       "      <td>0.0</td>\n",
       "      <td>0.0</td>\n",
       "    </tr>\n",
       "    <tr>\n",
       "      <th>021540-83-107</th>\n",
       "      <th>532127.62</th>\n",
       "      <th>4385358.91</th>\n",
       "      <td>0.0</td>\n",
       "      <td>1.0</td>\n",
       "      <td>0.0</td>\n",
       "      <td>0.0</td>\n",
       "    </tr>\n",
       "    <tr>\n",
       "      <th>021540-84-208</th>\n",
       "      <th>532164.35</th>\n",
       "      <th>4385338.75</th>\n",
       "      <td>1.0</td>\n",
       "      <td>0.0</td>\n",
       "      <td>0.0</td>\n",
       "      <td>0.0</td>\n",
       "    </tr>\n",
       "    <tr>\n",
       "      <th>021540-85-408</th>\n",
       "      <th>532151.02</th>\n",
       "      <th>4385346.02</th>\n",
       "      <td>1.0</td>\n",
       "      <td>0.0</td>\n",
       "      <td>0.0</td>\n",
       "      <td>0.0</td>\n",
       "    </tr>\n",
       "    <tr>\n",
       "      <th>03039b-14-311</th>\n",
       "      <th>532676.30</th>\n",
       "      <th>4385941.44</th>\n",
       "      <td>0.0</td>\n",
       "      <td>1.0</td>\n",
       "      <td>0.0</td>\n",
       "      <td>0.0</td>\n",
       "    </tr>\n",
       "    <tr>\n",
       "      <th>03039b-14-312</th>\n",
       "      <th>532663.24</th>\n",
       "      <th>4385944.05</th>\n",
       "      <td>0.0</td>\n",
       "      <td>1.0</td>\n",
       "      <td>1.0</td>\n",
       "      <td>0.0</td>\n",
       "    </tr>\n",
       "    <tr>\n",
       "      <th>03039b-44-318</th>\n",
       "      <th>532729.52</th>\n",
       "      <th>4385777.52</th>\n",
       "      <td>1.0</td>\n",
       "      <td>0.0</td>\n",
       "      <td>0.0</td>\n",
       "      <td>0.0</td>\n",
       "    </tr>\n",
       "    <tr>\n",
       "      <th>041440-71-403</th>\n",
       "      <th>531345.63</th>\n",
       "      <th>4386335.24</th>\n",
       "      <td>1.0</td>\n",
       "      <td>0.0</td>\n",
       "      <td>0.0</td>\n",
       "      <td>0.0</td>\n",
       "    </tr>\n",
       "  </tbody>\n",
       "</table>\n",
       "</div>"
      ],
      "text/plain": [
       "                                    Amphora  Coarseware  Commonware  Fineware\n",
       "SurveyPointId Easting   Northing                                             \n",
       "02001d-77-012 531989.73 4385614.15      1.0         0.0         0.0       0.0\n",
       "02001d-80-008 531872.15 4385569.72      1.0         0.0         0.0       0.0\n",
       "02001d-82-024 532116.88 4385546.76      1.0         0.0         0.0       0.0\n",
       "021540-83-107 532127.62 4385358.91      0.0         1.0         0.0       0.0\n",
       "021540-84-208 532164.35 4385338.75      1.0         0.0         0.0       0.0\n",
       "021540-85-408 532151.02 4385346.02      1.0         0.0         0.0       0.0\n",
       "03039b-14-311 532676.30 4385941.44      0.0         1.0         0.0       0.0\n",
       "03039b-14-312 532663.24 4385944.05      0.0         1.0         1.0       0.0\n",
       "03039b-44-318 532729.52 4385777.52      1.0         0.0         0.0       0.0\n",
       "041440-71-403 531345.63 4386335.24      1.0         0.0         0.0       0.0"
      ]
     },
     "execution_count": 4,
     "metadata": {},
     "output_type": "execute_result"
    }
   ],
   "source": [
    "data.head(10)"
   ]
  },
  {
   "cell_type": "markdown",
   "metadata": {},
   "source": [
    "# Spatial Clustering\n",
    "\n",
    "We shall group survey points using **DBSCAN** clustering method using euclidean distance as our metric\n"
   ]
  },
  {
   "cell_type": "markdown",
   "metadata": {
    "tags": []
   },
   "source": [
    "##### Extract location "
   ]
  },
  {
   "cell_type": "code",
   "execution_count": 5,
   "metadata": {},
   "outputs": [],
   "source": [
    "loc = data.reset_index()[['Northing', 'Easting']].to_numpy()"
   ]
  },
  {
   "cell_type": "markdown",
   "metadata": {},
   "source": [
    "##### Find nearest neighbors for each point to its closest 10 points"
   ]
  },
  {
   "cell_type": "code",
   "execution_count": 6,
   "metadata": {},
   "outputs": [],
   "source": [
    "from sklearn.neighbors import NearestNeighbors\n",
    "\n",
    "# find nearest 10 neighbors\n",
    "nmax = 10\n",
    "neighs = NearestNeighbors(n_neighbors = nmax)\n",
    "neighs_fit = neighs.fit(loc)\n",
    "distances, indices = neighs_fit.kneighbors(loc)"
   ]
  },
  {
   "cell_type": "markdown",
   "metadata": {},
   "source": [
    "#### Find cutoff distance\n",
    "We are going to consider that a minimum cluster should be made by at least 4 survey points. In order to determine the distance given this minimum number of survey points, we plot all the distances to the fourth nearest neighbor and select the distance  at which the rate of change is the largest. Changes between neighbors can be very drastic (especially at a local level) but we are interested in the distance where the more global qualitative changes occur. In order to obtain this value, we first smooth our distances so that can better determine where change is largest overall."
   ]
  },
  {
   "cell_type": "code",
   "execution_count": 7,
   "metadata": {},
   "outputs": [
    {
     "name": "stdout",
     "output_type": "stream",
     "text": [
      "Knee occurs at x= 719 and y= 61.07\n"
     ]
    }
   ],
   "source": [
    "from kneed import KneeLocator\n",
    "from  scipy.signal import savgol_filter\n",
    "n = 4-1\n",
    "y  = np.sort(distances, axis=0)[:,n]\n",
    "x = np.arange(y.size)\n",
    "kneedle = KneeLocator(x,savgol_filter(y, 21, 3), curve='convex', direction='increasing')\n",
    "print(f'Knee occurs at x= {kneedle.knee} and y= {y[kneedle.knee]:.2f}')"
   ]
  },
  {
   "cell_type": "code",
   "execution_count": 8,
   "metadata": {},
   "outputs": [
    {
     "data": {
      "image/png": "[encoded data removed]",
      "text/plain": [
       "<Figure size 432x288 with 1 Axes>"
      ]
     },
     "metadata": {
      "needs_background": "light"
     },
     "output_type": "display_data"
    }
   ],
   "source": [
    "# plot our results\n",
    "\n",
    "fig, ax = plt.subplots()\n",
    "ax.plot(x, y, c='k', linewidth=1)\n",
    "ax.plot(x, savgol_filter(y, 31, 3), c='blue', linestyle=':', linewidth=5, alpha=0.35)\n",
    "ax.axhline(y=y[kneedle.knee], c='red', alpha=0.5, linestyle='--')\n",
    "ax.axvline(x=kneedle.knee, c='red', alpha=0.5, linestyle='--')\n",
    "ax.set_ylabel('Minimum distance to third closest point')\n",
    "ax.set_title('Determining DBSCAN minimum distance');"
   ]
  },
  {
   "cell_type": "markdown",
   "metadata": {},
   "source": [
    "### Run dbscan"
   ]
  },
  {
   "cell_type": "code",
   "execution_count": 9,
   "metadata": {},
   "outputs": [
    {
     "data": {
      "text/plain": [
       "DBSCAN(eps=61.07, min_samples=4)"
      ]
     },
     "execution_count": 9,
     "metadata": {},
     "output_type": "execute_result"
    }
   ],
   "source": [
    "db_scan = DBSCAN(eps= 61.07, min_samples=4) \n",
    "db_scan.fit(loc)"
   ]
  },
  {
   "cell_type": "code",
   "execution_count": 10,
   "metadata": {},
   "outputs": [],
   "source": [
    "# Generate a column for each survey point with the label of the cluster the point belongs to.\n",
    "data['dbscan'] = db_scan.labels_"
   ]
  },
  {
   "cell_type": "markdown",
   "metadata": {},
   "source": [
    "##### Save Clustered Survey Points"
   ]
  },
  {
   "cell_type": "code",
   "execution_count": 11,
   "metadata": {
    "tags": []
   },
   "outputs": [],
   "source": [
    "fn = pth / 'clustered' / 'spatial' / 'cluster_pts.txt'\n",
    "\n",
    "# Uncomment and change path above to save clustered points\n",
    "#data.to_csv(fn)"
   ]
  },
  {
   "cell_type": "code",
   "execution_count": null,
   "metadata": {},
   "outputs": [],
   "source": []
  }
 ],
 "metadata": {
  "interpreter": {
   "hash": "453bc5a53b24d7f319b4f2983131e291df89ea1ada5aef8cfd3839d8bea2c749"
  },
  "jupytext": {
   "formats": "ipynb,py:light"
  },
  "kernelspec": {
   "display_name": "Python 3.9.2 64-bit ('leiap21': conda)",
   "name": "python3"
  },
  "language_info": {
   "codemirror_mode": {
    "name": "ipython",
    "version": 3
   },
   "file_extension": ".py",
   "mimetype": "text/x-python",
   "name": "python",
   "nbconvert_exporter": "python",
   "pygments_lexer": "ipython3",
   "version": "3.9.2"
  }
 },
 "nbformat": 4,
 "nbformat_minor": 4
}
