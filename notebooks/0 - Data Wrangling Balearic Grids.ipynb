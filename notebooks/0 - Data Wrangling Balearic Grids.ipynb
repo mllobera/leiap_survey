{
 "cells": [
  {
   "cell_type": "markdown",
   "metadata": {},
   "source": [
    "# **0 - Data Wrangling: Balearic Grids**"
   ]
  },
  {
   "cell_type": "markdown",
   "metadata": {},
   "source": [
    "##### Libraries"
   ]
  },
  {
   "cell_type": "code",
   "execution_count": 1,
   "metadata": {},
   "outputs": [],
   "source": [
    "import pandas as pd\n",
    "import numpy as np\n",
    "import geopandas as gpd\n",
    "import copy\n",
    "import leiap_survey.utils as utils\n",
    "\n",
    "from shapely.geometry import Point\n",
    "from pathlib import Path"
   ]
  },
  {
   "cell_type": "markdown",
   "metadata": {},
   "source": [
    "# Read data"
   ]
  },
  {
   "cell_type": "markdown",
   "metadata": {},
   "source": [
    "##### Project main path"
   ]
  },
  {
   "cell_type": "code",
   "execution_count": 2,
   "metadata": {
    "tags": []
   },
   "outputs": [
    {
     "data": {
      "text/plain": [
       "WindowsPath('../data')"
      ]
     },
     "execution_count": 2,
     "metadata": {},
     "output_type": "execute_result"
    }
   ],
   "source": [
    "# Change path so that it points to  were data is located\n",
    "pth = Path(r'../data')\n",
    "pth "
   ]
  },
  {
   "cell_type": "markdown",
   "metadata": {},
   "source": [
    "### Read Geographic information "
   ]
  },
  {
   "cell_type": "markdown",
   "metadata": {},
   "source": [
    "##### Read grid 80 x80 m (polygons)"
   ]
  },
  {
   "cell_type": "code",
   "execution_count": 3,
   "metadata": {},
   "outputs": [
    {
     "data": {
      "text/plain": [
       "WindowsPath('../data/geography/grid80.shp')"
      ]
     },
     "execution_count": 3,
     "metadata": {},
     "output_type": "execute_result"
    }
   ],
   "source": [
    "fn = pth / 'geography' / 'grid80.shp'\n",
    "fn"
   ]
  },
  {
   "cell_type": "code",
   "execution_count": 4,
   "metadata": {},
   "outputs": [
    {
     "data": {
      "text/html": [
       "<div>\n",
       "<style scoped>\n",
       "    .dataframe tbody tr th:only-of-type {\n",
       "        vertical-align: middle;\n",
       "    }\n",
       "\n",
       "    .dataframe tbody tr th {\n",
       "        vertical-align: top;\n",
       "    }\n",
       "\n",
       "    .dataframe thead th {\n",
       "        text-align: right;\n",
       "    }\n",
       "</style>\n",
       "<table border=\"1\" class=\"dataframe\">\n",
       "  <thead>\n",
       "    <tr style=\"text-align: right;\">\n",
       "      <th></th>\n",
       "      <th>index</th>\n",
       "      <th>geometry</th>\n",
       "    </tr>\n",
       "  </thead>\n",
       "  <tbody>\n",
       "    <tr>\n",
       "      <th>0</th>\n",
       "      <td>0</td>\n",
       "      <td>POLYGON ((531966.615 4385295.031, 531966.615 4...</td>\n",
       "    </tr>\n",
       "    <tr>\n",
       "      <th>1</th>\n",
       "      <td>1</td>\n",
       "      <td>POLYGON ((532046.615 4385295.031, 532046.615 4...</td>\n",
       "    </tr>\n",
       "  </tbody>\n",
       "</table>\n",
       "</div>"
      ],
      "text/plain": [
       "   index                                           geometry\n",
       "0      0  POLYGON ((531966.615 4385295.031, 531966.615 4...\n",
       "1      1  POLYGON ((532046.615 4385295.031, 532046.615 4..."
      ]
     },
     "execution_count": 4,
     "metadata": {},
     "output_type": "execute_result"
    }
   ],
   "source": [
    "grid = gpd.read_file(fn, encoding= 'utf-8')\n",
    "grid = grid.reset_index()\n",
    "del grid['Id']\n",
    "grid.head(2)"
   ]
  },
  {
   "cell_type": "markdown",
   "metadata": {},
   "source": [
    "Recover projection"
   ]
  },
  {
   "cell_type": "code",
   "execution_count": 5,
   "metadata": {},
   "outputs": [
    {
     "data": {
      "text/plain": [
       "25831"
      ]
     },
     "execution_count": 5,
     "metadata": {},
     "output_type": "execute_result"
    }
   ],
   "source": [
    "proj = grid.crs. to_epsg()\n",
    "proj"
   ]
  },
  {
   "cell_type": "markdown",
   "metadata": {},
   "source": [
    "### Read Balearic survey data\n",
    "This file contains the name of each pottery production, its time interval and possible uses "
   ]
  },
  {
   "cell_type": "code",
   "execution_count": 6,
   "metadata": {},
   "outputs": [
    {
     "data": {
      "text/html": [
       "<div>\n",
       "<style scoped>\n",
       "    .dataframe tbody tr th:only-of-type {\n",
       "        vertical-align: middle;\n",
       "    }\n",
       "\n",
       "    .dataframe tbody tr th {\n",
       "        vertical-align: top;\n",
       "    }\n",
       "\n",
       "    .dataframe thead th {\n",
       "        text-align: right;\n",
       "    }\n",
       "</style>\n",
       "<table border=\"1\" class=\"dataframe\">\n",
       "  <thead>\n",
       "    <tr style=\"text-align: right;\">\n",
       "      <th></th>\n",
       "      <th></th>\n",
       "      <th></th>\n",
       "      <th>Amphora</th>\n",
       "      <th>Coarseware</th>\n",
       "      <th>Commonware</th>\n",
       "      <th>Fineware</th>\n",
       "    </tr>\n",
       "    <tr>\n",
       "      <th>SurveyPointId</th>\n",
       "      <th>Easting</th>\n",
       "      <th>Northing</th>\n",
       "      <th></th>\n",
       "      <th></th>\n",
       "      <th></th>\n",
       "      <th></th>\n",
       "    </tr>\n",
       "  </thead>\n",
       "  <tbody>\n",
       "    <tr>\n",
       "      <th>02001d-77-012</th>\n",
       "      <th>531989.73</th>\n",
       "      <th>4385614.15</th>\n",
       "      <td>1.0</td>\n",
       "      <td>0.0</td>\n",
       "      <td>0.0</td>\n",
       "      <td>0.0</td>\n",
       "    </tr>\n",
       "    <tr>\n",
       "      <th>02001d-80-008</th>\n",
       "      <th>531872.15</th>\n",
       "      <th>4385569.72</th>\n",
       "      <td>1.0</td>\n",
       "      <td>0.0</td>\n",
       "      <td>0.0</td>\n",
       "      <td>0.0</td>\n",
       "    </tr>\n",
       "  </tbody>\n",
       "</table>\n",
       "</div>"
      ],
      "text/plain": [
       "                                    Amphora  Coarseware  Commonware  Fineware\n",
       "SurveyPointId Easting   Northing                                             \n",
       "02001d-77-012 531989.73 4385614.15      1.0         0.0         0.0       0.0\n",
       "02001d-80-008 531872.15 4385569.72      1.0         0.0         0.0       0.0"
      ]
     },
     "execution_count": 6,
     "metadata": {},
     "output_type": "execute_result"
    }
   ],
   "source": [
    "fn = pth / 'artifacts' / 'by_pts' / 'balearic_presence_types.txt'\n",
    "pts_pres_types = pd.read_csv(fn, index_col= ['SurveyPointId', 'Easting', 'Northing'])\n",
    "pts_pres_types.head(2)"
   ]
  },
  {
   "cell_type": "code",
   "execution_count": 7,
   "metadata": {},
   "outputs": [
    {
     "data": {
      "text/html": [
       "<div>\n",
       "<style scoped>\n",
       "    .dataframe tbody tr th:only-of-type {\n",
       "        vertical-align: middle;\n",
       "    }\n",
       "\n",
       "    .dataframe tbody tr th {\n",
       "        vertical-align: top;\n",
       "    }\n",
       "\n",
       "    .dataframe thead th {\n",
       "        text-align: right;\n",
       "    }\n",
       "</style>\n",
       "<table border=\"1\" class=\"dataframe\">\n",
       "  <thead>\n",
       "    <tr style=\"text-align: right;\">\n",
       "      <th></th>\n",
       "      <th></th>\n",
       "      <th></th>\n",
       "      <th>AtBlckGlz</th>\n",
       "      <th>Balearic</th>\n",
       "      <th>CamBlckGlzA</th>\n",
       "      <th>CamBlckGlzB</th>\n",
       "      <th>CmedPuAm</th>\n",
       "      <th>EbBlckGlz</th>\n",
       "      <th>EbPuAm</th>\n",
       "      <th>EbPuCom</th>\n",
       "      <th>GrItAm</th>\n",
       "      <th>IbAm</th>\n",
       "      <th>IbCom</th>\n",
       "      <th>ItAm</th>\n",
       "      <th>ItCom</th>\n",
       "      <th>MasAm</th>\n",
       "      <th>PuAm</th>\n",
       "      <th>PuCom</th>\n",
       "      <th>SoItVesCaAm</th>\n",
       "    </tr>\n",
       "    <tr>\n",
       "      <th>SurveyPointId</th>\n",
       "      <th>Easting</th>\n",
       "      <th>Northing</th>\n",
       "      <th></th>\n",
       "      <th></th>\n",
       "      <th></th>\n",
       "      <th></th>\n",
       "      <th></th>\n",
       "      <th></th>\n",
       "      <th></th>\n",
       "      <th></th>\n",
       "      <th></th>\n",
       "      <th></th>\n",
       "      <th></th>\n",
       "      <th></th>\n",
       "      <th></th>\n",
       "      <th></th>\n",
       "      <th></th>\n",
       "      <th></th>\n",
       "      <th></th>\n",
       "    </tr>\n",
       "  </thead>\n",
       "  <tbody>\n",
       "    <tr>\n",
       "      <th>02001d-77-012</th>\n",
       "      <th>531989.73</th>\n",
       "      <th>4385614.15</th>\n",
       "      <td>0.0</td>\n",
       "      <td>0.0</td>\n",
       "      <td>0.0</td>\n",
       "      <td>0.0</td>\n",
       "      <td>0.0</td>\n",
       "      <td>0.0</td>\n",
       "      <td>1.0</td>\n",
       "      <td>0.0</td>\n",
       "      <td>0.0</td>\n",
       "      <td>0.0</td>\n",
       "      <td>0.0</td>\n",
       "      <td>0.0</td>\n",
       "      <td>0.0</td>\n",
       "      <td>0.0</td>\n",
       "      <td>0.0</td>\n",
       "      <td>0.0</td>\n",
       "      <td>0.0</td>\n",
       "    </tr>\n",
       "    <tr>\n",
       "      <th>02001d-80-008</th>\n",
       "      <th>531872.15</th>\n",
       "      <th>4385569.72</th>\n",
       "      <td>0.0</td>\n",
       "      <td>0.0</td>\n",
       "      <td>0.0</td>\n",
       "      <td>0.0</td>\n",
       "      <td>0.0</td>\n",
       "      <td>0.0</td>\n",
       "      <td>1.0</td>\n",
       "      <td>0.0</td>\n",
       "      <td>0.0</td>\n",
       "      <td>0.0</td>\n",
       "      <td>0.0</td>\n",
       "      <td>0.0</td>\n",
       "      <td>0.0</td>\n",
       "      <td>0.0</td>\n",
       "      <td>0.0</td>\n",
       "      <td>0.0</td>\n",
       "      <td>0.0</td>\n",
       "    </tr>\n",
       "  </tbody>\n",
       "</table>\n",
       "</div>"
      ],
      "text/plain": [
       "                                    AtBlckGlz  Balearic  CamBlckGlzA  \\\n",
       "SurveyPointId Easting   Northing                                       \n",
       "02001d-77-012 531989.73 4385614.15        0.0       0.0          0.0   \n",
       "02001d-80-008 531872.15 4385569.72        0.0       0.0          0.0   \n",
       "\n",
       "                                    CamBlckGlzB  CmedPuAm  EbBlckGlz  EbPuAm  \\\n",
       "SurveyPointId Easting   Northing                                               \n",
       "02001d-77-012 531989.73 4385614.15          0.0       0.0        0.0     1.0   \n",
       "02001d-80-008 531872.15 4385569.72          0.0       0.0        0.0     1.0   \n",
       "\n",
       "                                    EbPuCom  GrItAm  IbAm  IbCom  ItAm  ItCom  \\\n",
       "SurveyPointId Easting   Northing                                                \n",
       "02001d-77-012 531989.73 4385614.15      0.0     0.0   0.0    0.0   0.0    0.0   \n",
       "02001d-80-008 531872.15 4385569.72      0.0     0.0   0.0    0.0   0.0    0.0   \n",
       "\n",
       "                                    MasAm  PuAm  PuCom  SoItVesCaAm  \n",
       "SurveyPointId Easting   Northing                                     \n",
       "02001d-77-012 531989.73 4385614.15    0.0   0.0    0.0          0.0  \n",
       "02001d-80-008 531872.15 4385569.72    0.0   0.0    0.0          0.0  "
      ]
     },
     "execution_count": 7,
     "metadata": {},
     "output_type": "execute_result"
    }
   ],
   "source": [
    "fn = pth / 'artifacts' / 'by_pts' / 'balearic_presence_productions.txt'\n",
    "pts_pres_prod = pd.read_csv(fn, index_col= ['SurveyPointId', 'Easting', 'Northing'])\n",
    "pts_pres_prod.head(2)"
   ]
  },
  {
   "cell_type": "markdown",
   "metadata": {},
   "source": [
    "# Spatial Joins with grids"
   ]
  },
  {
   "cell_type": "markdown",
   "metadata": {},
   "source": [
    "#### Convert artifacts into geopandas"
   ]
  },
  {
   "cell_type": "code",
   "execution_count": 8,
   "metadata": {},
   "outputs": [],
   "source": [
    "# What dataset? Choose either pottery types (pts_pres_types)  or originals (pts_pres_prod)\n",
    "ds = pts_pres_types\n",
    "pts = ds.reset_index().copy()"
   ]
  },
  {
   "cell_type": "code",
   "execution_count": 9,
   "id": "confused-consultation",
   "metadata": {},
   "outputs": [],
   "source": [
    "# Generate geopandas point dataframe\n",
    "pts['geometry'] = pts.apply(lambda pt: Point(pt.Easting, pt.Northing), axis = 1)\n",
    "pts = gpd.GeoDataFrame(pts)\n",
    "\n",
    "# Project to the same projection than grid\n",
    "pts = pts.set_crs(epsg= proj)"
   ]
  },
  {
   "cell_type": "markdown",
   "metadata": {},
   "source": [
    "#### Spatial join with the grid\n",
    "\n",
    "Generate a spatial join where each point will be associated with the grid id that contains it"
   ]
  },
  {
   "cell_type": "code",
   "execution_count": 10,
   "metadata": {},
   "outputs": [
    {
     "data": {
      "text/html": [
       "<div>\n",
       "<style scoped>\n",
       "    .dataframe tbody tr th:only-of-type {\n",
       "        vertical-align: middle;\n",
       "    }\n",
       "\n",
       "    .dataframe tbody tr th {\n",
       "        vertical-align: top;\n",
       "    }\n",
       "\n",
       "    .dataframe thead th {\n",
       "        text-align: right;\n",
       "    }\n",
       "</style>\n",
       "<table border=\"1\" class=\"dataframe\">\n",
       "  <thead>\n",
       "    <tr style=\"text-align: right;\">\n",
       "      <th></th>\n",
       "      <th>SurveyPointId</th>\n",
       "      <th>Easting</th>\n",
       "      <th>Northing</th>\n",
       "      <th>Amphora</th>\n",
       "      <th>Coarseware</th>\n",
       "      <th>Commonware</th>\n",
       "      <th>Fineware</th>\n",
       "      <th>geometry</th>\n",
       "      <th>grid80</th>\n",
       "    </tr>\n",
       "  </thead>\n",
       "  <tbody>\n",
       "    <tr>\n",
       "      <th>0</th>\n",
       "      <td>02001d-77-012</td>\n",
       "      <td>531989.73</td>\n",
       "      <td>4385614.15</td>\n",
       "      <td>1.0</td>\n",
       "      <td>0.0</td>\n",
       "      <td>0.0</td>\n",
       "      <td>0.0</td>\n",
       "      <td>POINT (531989.730 4385614.150)</td>\n",
       "      <td>13</td>\n",
       "    </tr>\n",
       "    <tr>\n",
       "      <th>1</th>\n",
       "      <td>02001d-80-008</td>\n",
       "      <td>531872.15</td>\n",
       "      <td>4385569.72</td>\n",
       "      <td>1.0</td>\n",
       "      <td>0.0</td>\n",
       "      <td>0.0</td>\n",
       "      <td>0.0</td>\n",
       "      <td>POINT (531872.150 4385569.720)</td>\n",
       "      <td>11</td>\n",
       "    </tr>\n",
       "    <tr>\n",
       "      <th>2</th>\n",
       "      <td>02001d-82-024</td>\n",
       "      <td>532116.88</td>\n",
       "      <td>4385546.76</td>\n",
       "      <td>1.0</td>\n",
       "      <td>0.0</td>\n",
       "      <td>0.0</td>\n",
       "      <td>0.0</td>\n",
       "      <td>POINT (532116.880 4385546.760)</td>\n",
       "      <td>14</td>\n",
       "    </tr>\n",
       "  </tbody>\n",
       "</table>\n",
       "</div>"
      ],
      "text/plain": [
       "   SurveyPointId    Easting    Northing  Amphora  Coarseware  Commonware  \\\n",
       "0  02001d-77-012  531989.73  4385614.15      1.0         0.0         0.0   \n",
       "1  02001d-80-008  531872.15  4385569.72      1.0         0.0         0.0   \n",
       "2  02001d-82-024  532116.88  4385546.76      1.0         0.0         0.0   \n",
       "\n",
       "   Fineware                        geometry  grid80  \n",
       "0       0.0  POINT (531989.730 4385614.150)      13  \n",
       "1       0.0  POINT (531872.150 4385569.720)      11  \n",
       "2       0.0  POINT (532116.880 4385546.760)      14  "
      ]
     },
     "execution_count": 10,
     "metadata": {},
     "output_type": "execute_result"
    }
   ],
   "source": [
    "pts= (pts.sjoin(grid, how='inner')\n",
    "         .drop(columns = 'index')\n",
    "         .rename(columns = {'index_right': 'grid80'})\n",
    ")\n",
    "pts = pts.astype({'grid80': 'int64'})\n",
    "pts.head(3)"
   ]
  },
  {
   "cell_type": "code",
   "execution_count": 11,
   "metadata": {},
   "outputs": [],
   "source": [
    "# Drop geometry as we do not need it anymore\n",
    "del pts['geometry']"
   ]
  },
  {
   "cell_type": "code",
   "execution_count": 12,
   "metadata": {},
   "outputs": [
    {
     "data": {
      "text/html": [
       "<div>\n",
       "<style scoped>\n",
       "    .dataframe tbody tr th:only-of-type {\n",
       "        vertical-align: middle;\n",
       "    }\n",
       "\n",
       "    .dataframe tbody tr th {\n",
       "        vertical-align: top;\n",
       "    }\n",
       "\n",
       "    .dataframe thead th {\n",
       "        text-align: right;\n",
       "    }\n",
       "</style>\n",
       "<table border=\"1\" class=\"dataframe\">\n",
       "  <thead>\n",
       "    <tr style=\"text-align: right;\">\n",
       "      <th></th>\n",
       "      <th>Easting</th>\n",
       "      <th>Northing</th>\n",
       "      <th>Amphora</th>\n",
       "      <th>Coarseware</th>\n",
       "      <th>Commonware</th>\n",
       "      <th>Fineware</th>\n",
       "    </tr>\n",
       "    <tr>\n",
       "      <th>grid80</th>\n",
       "      <th></th>\n",
       "      <th></th>\n",
       "      <th></th>\n",
       "      <th></th>\n",
       "      <th></th>\n",
       "      <th></th>\n",
       "    </tr>\n",
       "  </thead>\n",
       "  <tbody>\n",
       "    <tr>\n",
       "      <th>2</th>\n",
       "      <td>1596442.99</td>\n",
       "      <td>13156043.68</td>\n",
       "      <td>2.0</td>\n",
       "      <td>1.0</td>\n",
       "      <td>0.0</td>\n",
       "      <td>0.0</td>\n",
       "    </tr>\n",
       "    <tr>\n",
       "      <th>11</th>\n",
       "      <td>531872.15</td>\n",
       "      <td>4385569.72</td>\n",
       "      <td>1.0</td>\n",
       "      <td>0.0</td>\n",
       "      <td>0.0</td>\n",
       "      <td>0.0</td>\n",
       "    </tr>\n",
       "    <tr>\n",
       "      <th>13</th>\n",
       "      <td>531989.73</td>\n",
       "      <td>4385614.15</td>\n",
       "      <td>1.0</td>\n",
       "      <td>0.0</td>\n",
       "      <td>0.0</td>\n",
       "      <td>0.0</td>\n",
       "    </tr>\n",
       "  </tbody>\n",
       "</table>\n",
       "</div>"
      ],
      "text/plain": [
       "           Easting     Northing  Amphora  Coarseware  Commonware  Fineware\n",
       "grid80                                                                    \n",
       "2       1596442.99  13156043.68      2.0         1.0         0.0       0.0\n",
       "11       531872.15   4385569.72      1.0         0.0         0.0       0.0\n",
       "13       531989.73   4385614.15      1.0         0.0         0.0       0.0"
      ]
     },
     "execution_count": 12,
     "metadata": {},
     "output_type": "execute_result"
    }
   ],
   "source": [
    "# group by grid id\n",
    "grid = pts.groupby('grid80').sum()\n",
    "grid.head(3)"
   ]
  },
  {
   "cell_type": "code",
   "execution_count": 13,
   "metadata": {},
   "outputs": [],
   "source": [
    "# presence or absence\n",
    "grid = grid.where(grid<1.0, 1)"
   ]
  },
  {
   "cell_type": "code",
   "execution_count": 33,
   "metadata": {},
   "outputs": [],
   "source": [
    "# Choose '_types.txt' or '_productions.txt' depending on the dataset used in spatial join\n",
    "fn = pth / 'artifacts' / 'grid80_types.txt'\n",
    "\n",
    "# Un comment to save\n",
    "#grid.to_csv(fn)"
   ]
  }
 ],
 "metadata": {
  "interpreter": {
   "hash": "453bc5a53b24d7f319b4f2983131e291df89ea1ada5aef8cfd3839d8bea2c749"
  },
  "jupytext": {
   "formats": "ipynb,py:light"
  },
  "kernelspec": {
   "display_name": "Python 3.9.2 64-bit ('leiap21': conda)",
   "name": "python3"
  },
  "language_info": {
   "codemirror_mode": {
    "name": "ipython",
    "version": 3
   },
   "file_extension": ".py",
   "mimetype": "text/x-python",
   "name": "python",
   "nbconvert_exporter": "python",
   "pygments_lexer": "ipython3",
   "version": "3.9.2"
  }
 },
 "nbformat": 4,
 "nbformat_minor": 4
}
