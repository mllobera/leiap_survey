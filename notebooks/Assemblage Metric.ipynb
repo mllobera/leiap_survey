{
 "cells": [
  {
   "cell_type": "markdown",
   "metadata": {},
   "source": [
    "# **Developing a Binary Assemblage Distance/Dissimilarity Index**"
   ]
  },
  {
   "cell_type": "markdown",
   "metadata": {},
   "source": [
    "##### Libraries"
   ]
  },
  {
   "cell_type": "code",
   "execution_count": 1,
   "metadata": {},
   "outputs": [],
   "source": [
    "import pandas as pd\n",
    "import numpy as np\n",
    "import matplotlib.pyplot as plt\n",
    "import matplotlib as mpl\n",
    "import seaborn as sns\n",
    "\n",
    "from matplotlib.patches import Polygon\n",
    "from matplotlib.collections import PatchCollection\n",
    "from sklearn.metrics import pairwise_distances\n",
    "from pathlib import Path"
   ]
  },
  {
   "cell_type": "markdown",
   "metadata": {},
   "source": [
    "At its most elemental level, pottery assemblages may be compared based on the presence or absences of pottery types to determine whether these are similar or not to each other. Currently, they are many different *binary* metrics that may be used to derive some measurement based on this information. \n",
    "\n",
    "In this notebook, we explore the usefulness of some existing *binary* metrics* using a made up example. We  compare these against a newly created dissimilarity coefficient that aligns well with out own intuition on what makes assemblages to be similar or not.\n",
    "\n",
    "Within our *data* matrix below, 1 represents presence and 0 represents absence "
   ]
  },
  {
   "cell_type": "code",
   "execution_count": 2,
   "metadata": {},
   "outputs": [],
   "source": [
    "data = [[1, 0, 0, 0, 0],\n",
    "        [1, 1, 0, 0, 0],\n",
    "        [1, 0, 1, 0, 0],\n",
    "        [1, 0, 0, 1, 0],\n",
    "        [1, 0, 0, 0, 1],\n",
    "        [1, 1, 1, 0, 0],\n",
    "        [1, 0, 1, 1, 0],\n",
    "        [1, 0, 0, 1, 1],\n",
    "        [1, 1, 0, 1, 0],\n",
    "        [1, 1, 0, 0, 1],\n",
    "        [1, 0, 1, 0, 1],\n",
    "        [1, 1, 1, 1, 0],\n",
    "        [1, 0, 1, 1, 1],\n",
    "        [1, 1, 0, 1, 1],\n",
    "        [1, 1, 1 ,0, 1],\n",
    "        [1, 1, 1, 1, 0],\n",
    "        [1, 1, 1, 1, 1],\n",
    "        [0, 1, 0, 0, 0],\n",
    "        [0, 0, 1, 0, 0],\n",
    "        [0, 0, 0, 1, 0],\n",
    "        [0, 0, 0, 0, 1],\n",
    "        [0, 1, 1, 0, 0],\n",
    "        [0, 1, 0, 1, 0],\n",
    "        [0, 1, 0, 0, 1],\n",
    "        [0, 0, 1, 1, 0],\n",
    "        [0, 0, 1, 0, 1],\n",
    "        [0, 0, 0, 1, 1],\n",
    "        [0, 0, 1, 1, 1],\n",
    "        [0, 1, 0, 1, 1],\n",
    "        [0, 1, 1, 0, 1],\n",
    "        [0, 1, 1, 1, 0],\n",
    "        [0, 1, 1, 1, 1]]"
   ]
  },
  {
   "cell_type": "markdown",
   "metadata": {},
   "source": [
    "Assembling data into a table,"
   ]
  },
  {
   "cell_type": "code",
   "execution_count": 3,
   "metadata": {},
   "outputs": [
    {
     "data": {
      "text/html": [
       "<div>\n",
       "<style scoped>\n",
       "    .dataframe tbody tr th:only-of-type {\n",
       "        vertical-align: middle;\n",
       "    }\n",
       "\n",
       "    .dataframe tbody tr th {\n",
       "        vertical-align: top;\n",
       "    }\n",
       "\n",
       "    .dataframe thead th {\n",
       "        text-align: right;\n",
       "    }\n",
       "</style>\n",
       "<table border=\"1\" class=\"dataframe\">\n",
       "  <thead>\n",
       "    <tr style=\"text-align: right;\">\n",
       "      <th></th>\n",
       "      <th></th>\n",
       "      <th></th>\n",
       "      <th>type A</th>\n",
       "      <th>type B</th>\n",
       "      <th>type C</th>\n",
       "      <th>type D</th>\n",
       "      <th>type E</th>\n",
       "    </tr>\n",
       "    <tr>\n",
       "      <th>relationship</th>\n",
       "      <th>degree</th>\n",
       "      <th>cases</th>\n",
       "      <th></th>\n",
       "      <th></th>\n",
       "      <th></th>\n",
       "      <th></th>\n",
       "      <th></th>\n",
       "    </tr>\n",
       "  </thead>\n",
       "  <tbody>\n",
       "    <tr>\n",
       "      <th>target</th>\n",
       "      <th>0</th>\n",
       "      <th>0</th>\n",
       "      <td>1</td>\n",
       "      <td>0</td>\n",
       "      <td>0</td>\n",
       "      <td>0</td>\n",
       "      <td>0</td>\n",
       "    </tr>\n",
       "    <tr>\n",
       "      <th rowspan=\"16\" valign=\"top\">common</th>\n",
       "      <th rowspan=\"4\" valign=\"top\">1</th>\n",
       "      <th>1</th>\n",
       "      <td>1</td>\n",
       "      <td>1</td>\n",
       "      <td>0</td>\n",
       "      <td>0</td>\n",
       "      <td>0</td>\n",
       "    </tr>\n",
       "    <tr>\n",
       "      <th>2</th>\n",
       "      <td>1</td>\n",
       "      <td>0</td>\n",
       "      <td>1</td>\n",
       "      <td>0</td>\n",
       "      <td>0</td>\n",
       "    </tr>\n",
       "    <tr>\n",
       "      <th>3</th>\n",
       "      <td>1</td>\n",
       "      <td>0</td>\n",
       "      <td>0</td>\n",
       "      <td>1</td>\n",
       "      <td>0</td>\n",
       "    </tr>\n",
       "    <tr>\n",
       "      <th>4</th>\n",
       "      <td>1</td>\n",
       "      <td>0</td>\n",
       "      <td>0</td>\n",
       "      <td>0</td>\n",
       "      <td>1</td>\n",
       "    </tr>\n",
       "    <tr>\n",
       "      <th rowspan=\"6\" valign=\"top\">2</th>\n",
       "      <th>5</th>\n",
       "      <td>1</td>\n",
       "      <td>1</td>\n",
       "      <td>1</td>\n",
       "      <td>0</td>\n",
       "      <td>0</td>\n",
       "    </tr>\n",
       "    <tr>\n",
       "      <th>6</th>\n",
       "      <td>1</td>\n",
       "      <td>0</td>\n",
       "      <td>1</td>\n",
       "      <td>1</td>\n",
       "      <td>0</td>\n",
       "    </tr>\n",
       "    <tr>\n",
       "      <th>7</th>\n",
       "      <td>1</td>\n",
       "      <td>0</td>\n",
       "      <td>0</td>\n",
       "      <td>1</td>\n",
       "      <td>1</td>\n",
       "    </tr>\n",
       "    <tr>\n",
       "      <th>8</th>\n",
       "      <td>1</td>\n",
       "      <td>1</td>\n",
       "      <td>0</td>\n",
       "      <td>1</td>\n",
       "      <td>0</td>\n",
       "    </tr>\n",
       "    <tr>\n",
       "      <th>9</th>\n",
       "      <td>1</td>\n",
       "      <td>1</td>\n",
       "      <td>0</td>\n",
       "      <td>0</td>\n",
       "      <td>1</td>\n",
       "    </tr>\n",
       "    <tr>\n",
       "      <th>10</th>\n",
       "      <td>1</td>\n",
       "      <td>0</td>\n",
       "      <td>1</td>\n",
       "      <td>0</td>\n",
       "      <td>1</td>\n",
       "    </tr>\n",
       "    <tr>\n",
       "      <th rowspan=\"5\" valign=\"top\">3</th>\n",
       "      <th>11</th>\n",
       "      <td>1</td>\n",
       "      <td>1</td>\n",
       "      <td>1</td>\n",
       "      <td>1</td>\n",
       "      <td>0</td>\n",
       "    </tr>\n",
       "    <tr>\n",
       "      <th>12</th>\n",
       "      <td>1</td>\n",
       "      <td>0</td>\n",
       "      <td>1</td>\n",
       "      <td>1</td>\n",
       "      <td>1</td>\n",
       "    </tr>\n",
       "    <tr>\n",
       "      <th>13</th>\n",
       "      <td>1</td>\n",
       "      <td>1</td>\n",
       "      <td>0</td>\n",
       "      <td>1</td>\n",
       "      <td>1</td>\n",
       "    </tr>\n",
       "    <tr>\n",
       "      <th>14</th>\n",
       "      <td>1</td>\n",
       "      <td>1</td>\n",
       "      <td>1</td>\n",
       "      <td>0</td>\n",
       "      <td>1</td>\n",
       "    </tr>\n",
       "    <tr>\n",
       "      <th>15</th>\n",
       "      <td>1</td>\n",
       "      <td>1</td>\n",
       "      <td>1</td>\n",
       "      <td>1</td>\n",
       "      <td>0</td>\n",
       "    </tr>\n",
       "    <tr>\n",
       "      <th>4</th>\n",
       "      <th>16</th>\n",
       "      <td>1</td>\n",
       "      <td>1</td>\n",
       "      <td>1</td>\n",
       "      <td>1</td>\n",
       "      <td>1</td>\n",
       "    </tr>\n",
       "    <tr>\n",
       "      <th rowspan=\"15\" valign=\"top\">different</th>\n",
       "      <th rowspan=\"4\" valign=\"top\">1</th>\n",
       "      <th>17</th>\n",
       "      <td>0</td>\n",
       "      <td>1</td>\n",
       "      <td>0</td>\n",
       "      <td>0</td>\n",
       "      <td>0</td>\n",
       "    </tr>\n",
       "    <tr>\n",
       "      <th>18</th>\n",
       "      <td>0</td>\n",
       "      <td>0</td>\n",
       "      <td>1</td>\n",
       "      <td>0</td>\n",
       "      <td>0</td>\n",
       "    </tr>\n",
       "    <tr>\n",
       "      <th>19</th>\n",
       "      <td>0</td>\n",
       "      <td>0</td>\n",
       "      <td>0</td>\n",
       "      <td>1</td>\n",
       "      <td>0</td>\n",
       "    </tr>\n",
       "    <tr>\n",
       "      <th>20</th>\n",
       "      <td>0</td>\n",
       "      <td>0</td>\n",
       "      <td>0</td>\n",
       "      <td>0</td>\n",
       "      <td>1</td>\n",
       "    </tr>\n",
       "    <tr>\n",
       "      <th rowspan=\"6\" valign=\"top\">2</th>\n",
       "      <th>21</th>\n",
       "      <td>0</td>\n",
       "      <td>1</td>\n",
       "      <td>1</td>\n",
       "      <td>0</td>\n",
       "      <td>0</td>\n",
       "    </tr>\n",
       "    <tr>\n",
       "      <th>22</th>\n",
       "      <td>0</td>\n",
       "      <td>1</td>\n",
       "      <td>0</td>\n",
       "      <td>1</td>\n",
       "      <td>0</td>\n",
       "    </tr>\n",
       "    <tr>\n",
       "      <th>23</th>\n",
       "      <td>0</td>\n",
       "      <td>1</td>\n",
       "      <td>0</td>\n",
       "      <td>0</td>\n",
       "      <td>1</td>\n",
       "    </tr>\n",
       "    <tr>\n",
       "      <th>24</th>\n",
       "      <td>0</td>\n",
       "      <td>0</td>\n",
       "      <td>1</td>\n",
       "      <td>1</td>\n",
       "      <td>0</td>\n",
       "    </tr>\n",
       "    <tr>\n",
       "      <th>25</th>\n",
       "      <td>0</td>\n",
       "      <td>0</td>\n",
       "      <td>1</td>\n",
       "      <td>0</td>\n",
       "      <td>1</td>\n",
       "    </tr>\n",
       "    <tr>\n",
       "      <th>26</th>\n",
       "      <td>0</td>\n",
       "      <td>0</td>\n",
       "      <td>0</td>\n",
       "      <td>1</td>\n",
       "      <td>1</td>\n",
       "    </tr>\n",
       "    <tr>\n",
       "      <th rowspan=\"4\" valign=\"top\">3</th>\n",
       "      <th>27</th>\n",
       "      <td>0</td>\n",
       "      <td>0</td>\n",
       "      <td>1</td>\n",
       "      <td>1</td>\n",
       "      <td>1</td>\n",
       "    </tr>\n",
       "    <tr>\n",
       "      <th>28</th>\n",
       "      <td>0</td>\n",
       "      <td>1</td>\n",
       "      <td>0</td>\n",
       "      <td>1</td>\n",
       "      <td>1</td>\n",
       "    </tr>\n",
       "    <tr>\n",
       "      <th>29</th>\n",
       "      <td>0</td>\n",
       "      <td>1</td>\n",
       "      <td>1</td>\n",
       "      <td>0</td>\n",
       "      <td>1</td>\n",
       "    </tr>\n",
       "    <tr>\n",
       "      <th>30</th>\n",
       "      <td>0</td>\n",
       "      <td>1</td>\n",
       "      <td>1</td>\n",
       "      <td>1</td>\n",
       "      <td>0</td>\n",
       "    </tr>\n",
       "    <tr>\n",
       "      <th>4</th>\n",
       "      <th>31</th>\n",
       "      <td>0</td>\n",
       "      <td>1</td>\n",
       "      <td>1</td>\n",
       "      <td>1</td>\n",
       "      <td>1</td>\n",
       "    </tr>\n",
       "  </tbody>\n",
       "</table>\n",
       "</div>"
      ],
      "text/plain": [
       "                           type A  type B  type C  type D  type E\n",
       "relationship degree cases                                        \n",
       "target       0      0           1       0       0       0       0\n",
       "common       1      1           1       1       0       0       0\n",
       "                    2           1       0       1       0       0\n",
       "                    3           1       0       0       1       0\n",
       "                    4           1       0       0       0       1\n",
       "             2      5           1       1       1       0       0\n",
       "                    6           1       0       1       1       0\n",
       "                    7           1       0       0       1       1\n",
       "                    8           1       1       0       1       0\n",
       "                    9           1       1       0       0       1\n",
       "                    10          1       0       1       0       1\n",
       "             3      11          1       1       1       1       0\n",
       "                    12          1       0       1       1       1\n",
       "                    13          1       1       0       1       1\n",
       "                    14          1       1       1       0       1\n",
       "                    15          1       1       1       1       0\n",
       "             4      16          1       1       1       1       1\n",
       "different    1      17          0       1       0       0       0\n",
       "                    18          0       0       1       0       0\n",
       "                    19          0       0       0       1       0\n",
       "                    20          0       0       0       0       1\n",
       "             2      21          0       1       1       0       0\n",
       "                    22          0       1       0       1       0\n",
       "                    23          0       1       0       0       1\n",
       "                    24          0       0       1       1       0\n",
       "                    25          0       0       1       0       1\n",
       "                    26          0       0       0       1       1\n",
       "             3      27          0       0       1       1       1\n",
       "                    28          0       1       0       1       1\n",
       "                    29          0       1       1       0       1\n",
       "                    30          0       1       1       1       0\n",
       "             4      31          0       1       1       1       1"
      ]
     },
     "execution_count": 3,
     "metadata": {},
     "output_type": "execute_result"
    }
   ],
   "source": [
    "degree = [0,1,1,1,1,2,2,2,2,2,2,3,3,3,3,3,4, 1,1,1,1,2,2,2,2,2,2,3,3,3,3,4]\n",
    "relationship = ['target'] + 16*['common']+ 15*['different']\n",
    "cases = list(range(len(data)))\n",
    "index= pd.MultiIndex.from_tuples(list(zip(relationship, degree, cases)), names=['relationship', 'degree', 'cases'])\n",
    "assemblages = pd.DataFrame(data, columns= ['type A', 'type B', 'type C', 'type D', 'type E'], index= index)\n",
    "assemblages"
   ]
  },
  {
   "cell_type": "markdown",
   "metadata": {},
   "source": [
    "## Exploring binary metrics"
   ]
  },
  {
   "cell_type": "markdown",
   "metadata": {},
   "source": [
    "We are interested in finding the dissimilarity or distance between the *target* assemblage (first row) in the above table and the rest of the assemblages in the table (remaining rows). Currently the above table has been enconded in such as way so as to reflect a **qualitative** difference amongst assemblages based on the following two criteria:\n",
    "   - Whether the rest of the assemblages share the same type with the *target* \n",
    "   - How many additional types they share or not with the *target*\n",
    "\n",
    "So for instance, the first four assemblages (cases 1- 4) all share the same type (*type A*) with  the *target* plus an additional type. So all of these assemblages are very similar to our *target* assemblage. All those assemblages that share the same type/s, in this case only one - *type A*, with the target will be deemed as being more similar, however, the more additional types are present in these assemblages that are not shared with our *target* the less similar they will become. On ther other hand, cases 17-31 are considered to be different from our *target* assemblage because they do not share the same type as this one. The more types they do not share with the *target*, the more dissimilar they are from this assemblage. Case 31, is the most dissimilar case, as it contains all types except for the one present in the target assemblage. \n",
    "\n",
    "\n",
    "There are several distance metrics that may be used to calculate the similarity or dissimilarity between assemblages when these are represented in binary form. Here we use a few of the best known ones to calculate the distance between the *target* assemblage and the rest of the assemblages,\n",
    "    \n",
    "   1. Hamming"
   ]
  },
  {
   "cell_type": "code",
   "execution_count": 4,
   "metadata": {},
   "outputs": [
    {
     "data": {
      "text/plain": [
       "array([0. , 0.2, 0.2, 0.2, 0.2, 0.4, 0.4, 0.4, 0.4, 0.4, 0.4, 0.6, 0.6,\n",
       "       0.6, 0.6, 0.6, 0.8, 0.4, 0.4, 0.4, 0.4, 0.6, 0.6, 0.6, 0.6, 0.6,\n",
       "       0.6, 0.8, 0.8, 0.8, 0.8, 1. ])"
      ]
     },
     "execution_count": 4,
     "metadata": {},
     "output_type": "execute_result"
    }
   ],
   "source": [
    "D_hamming = pairwise_distances(assemblages.values == 1, metric= 'hamming')\n",
    "D_hamming[0]"
   ]
  },
  {
   "cell_type": "markdown",
   "metadata": {},
   "source": [
    "   2. Rogers - Tanimoto"
   ]
  },
  {
   "cell_type": "code",
   "execution_count": 5,
   "metadata": {},
   "outputs": [
    {
     "data": {
      "text/plain": [
       "array([0.        , 0.33333333, 0.33333333, 0.33333333, 0.33333333,\n",
       "       0.57142857, 0.57142857, 0.57142857, 0.57142857, 0.57142857,\n",
       "       0.57142857, 0.75      , 0.75      , 0.75      , 0.75      ,\n",
       "       0.75      , 0.88888889, 0.57142857, 0.57142857, 0.57142857,\n",
       "       0.57142857, 0.75      , 0.75      , 0.75      , 0.75      ,\n",
       "       0.75      , 0.75      , 0.88888889, 0.88888889, 0.88888889,\n",
       "       0.88888889, 1.        ])"
      ]
     },
     "execution_count": 5,
     "metadata": {},
     "output_type": "execute_result"
    }
   ],
   "source": [
    "D_rt = pairwise_distances(assemblages.values == 1, metric= 'rogerstanimoto')\n",
    "D_rt[0]"
   ]
  },
  {
   "cell_type": "markdown",
   "metadata": {},
   "source": [
    "   3. Sokal - Michener"
   ]
  },
  {
   "cell_type": "code",
   "execution_count": 6,
   "metadata": {},
   "outputs": [
    {
     "data": {
      "text/plain": [
       "array([0.        , 0.33333333, 0.33333333, 0.33333333, 0.33333333,\n",
       "       0.57142857, 0.57142857, 0.57142857, 0.57142857, 0.57142857,\n",
       "       0.57142857, 0.75      , 0.75      , 0.75      , 0.75      ,\n",
       "       0.75      , 0.88888889, 0.57142857, 0.57142857, 0.57142857,\n",
       "       0.57142857, 0.75      , 0.75      , 0.75      , 0.75      ,\n",
       "       0.75      , 0.75      , 0.88888889, 0.88888889, 0.88888889,\n",
       "       0.88888889, 1.        ])"
      ]
     },
     "execution_count": 6,
     "metadata": {},
     "output_type": "execute_result"
    }
   ],
   "source": [
    "D_SokalM = pairwise_distances(assemblages.values == 1, metric= 'sokalmichener')\n",
    "D_SokalM[0]"
   ]
  },
  {
   "cell_type": "markdown",
   "metadata": {},
   "source": [
    "   4. Dice"
   ]
  },
  {
   "cell_type": "code",
   "execution_count": 7,
   "metadata": {},
   "outputs": [
    {
     "data": {
      "text/plain": [
       "array([0.        , 0.33333333, 0.33333333, 0.33333333, 0.33333333,\n",
       "       0.5       , 0.5       , 0.5       , 0.5       , 0.5       ,\n",
       "       0.5       , 0.6       , 0.6       , 0.6       , 0.6       ,\n",
       "       0.6       , 0.66666667, 1.        , 1.        , 1.        ,\n",
       "       1.        , 1.        , 1.        , 1.        , 1.        ,\n",
       "       1.        , 1.        , 1.        , 1.        , 1.        ,\n",
       "       1.        , 1.        ])"
      ]
     },
     "execution_count": 7,
     "metadata": {},
     "output_type": "execute_result"
    }
   ],
   "source": [
    "D_dice = pairwise_distances(assemblages.values == 1, metric= 'dice')\n",
    "D_dice[0]"
   ]
  },
  {
   "cell_type": "markdown",
   "metadata": {},
   "source": [
    "   5. Jaccard"
   ]
  },
  {
   "cell_type": "code",
   "execution_count": 8,
   "metadata": {},
   "outputs": [
    {
     "data": {
      "text/plain": [
       "array([0.        , 0.5       , 0.5       , 0.5       , 0.5       ,\n",
       "       0.66666667, 0.66666667, 0.66666667, 0.66666667, 0.66666667,\n",
       "       0.66666667, 0.75      , 0.75      , 0.75      , 0.75      ,\n",
       "       0.75      , 0.8       , 1.        , 1.        , 1.        ,\n",
       "       1.        , 1.        , 1.        , 1.        , 1.        ,\n",
       "       1.        , 1.        , 1.        , 1.        , 1.        ,\n",
       "       1.        , 1.        ])"
      ]
     },
     "execution_count": 8,
     "metadata": {},
     "output_type": "execute_result"
    }
   ],
   "source": [
    "D_jaccard = pairwise_distances(assemblages.values == 1, metric= 'jaccard')\n",
    "D_jaccard[0]"
   ]
  },
  {
   "cell_type": "markdown",
   "metadata": {},
   "source": [
    "   6. Kulsinski"
   ]
  },
  {
   "cell_type": "code",
   "execution_count": 9,
   "metadata": {},
   "outputs": [
    {
     "data": {
      "text/plain": [
       "array([0.        , 0.83333333, 0.83333333, 0.83333333, 0.83333333,\n",
       "       0.85714286, 0.85714286, 0.85714286, 0.85714286, 0.85714286,\n",
       "       0.85714286, 0.875     , 0.875     , 0.875     , 0.875     ,\n",
       "       0.875     , 0.88888889, 1.        , 1.        , 1.        ,\n",
       "       1.        , 1.        , 1.        , 1.        , 1.        ,\n",
       "       1.        , 1.        , 1.        , 1.        , 1.        ,\n",
       "       1.        , 1.        ])"
      ]
     },
     "execution_count": 9,
     "metadata": {},
     "output_type": "execute_result"
    }
   ],
   "source": [
    "D_kulsinski = pairwise_distances(assemblages.values == 1, metric= 'kulsinski')\n",
    "D_kulsinski[0]"
   ]
  },
  {
   "cell_type": "markdown",
   "metadata": {},
   "source": [
    "   7. Russell-Rao"
   ]
  },
  {
   "cell_type": "code",
   "execution_count": 10,
   "metadata": {},
   "outputs": [
    {
     "data": {
      "text/plain": [
       "array([0. , 0.8, 0.8, 0.8, 0.8, 0.8, 0.8, 0.8, 0.8, 0.8, 0.8, 0.8, 0.8,\n",
       "       0.8, 0.8, 0.8, 0.8, 1. , 1. , 1. , 1. , 1. , 1. , 1. , 1. , 1. ,\n",
       "       1. , 1. , 1. , 1. , 1. , 1. ])"
      ]
     },
     "execution_count": 10,
     "metadata": {},
     "output_type": "execute_result"
    }
   ],
   "source": [
    "D_russellrao = pairwise_distances(assemblages.values == 1, metric= 'russellrao')\n",
    "D_russellrao[0]"
   ]
  },
  {
   "cell_type": "markdown",
   "metadata": {},
   "source": [
    "   8. YuleQ"
   ]
  },
  {
   "cell_type": "code",
   "execution_count": 11,
   "metadata": {},
   "outputs": [
    {
     "data": {
      "text/plain": [
       "array([0., 0., 0., 0., 0., 0., 0., 0., 0., 0., 0., 0., 0., 0., 0., 0., 0.,\n",
       "       2., 2., 2., 2., 2., 2., 2., 2., 2., 2., 2., 2., 2., 2., 2.])"
      ]
     },
     "execution_count": 11,
     "metadata": {},
     "output_type": "execute_result"
    }
   ],
   "source": [
    "D_yule = pairwise_distances(assemblages.values == 1, metric= 'yule')\n",
    "D_yule[0]"
   ]
  },
  {
   "cell_type": "markdown",
   "metadata": {},
   "source": [
    "From the above it can be appreciated that some metrics do better than others at distinguishing between assemblages. However, none of these methods is able to differentiate well some of the degrees within the qualitative differentiations made earlier. For instance, no metric is able to differentiate well cases 17-31 or 11-15 from 17-20."
   ]
  },
  {
   "cell_type": "markdown",
   "metadata": {},
   "source": [
    "## New binary assemblage metric"
   ]
  },
  {
   "cell_type": "markdown",
   "metadata": {},
   "source": [
    "In order to resolve this, and to be able to better discriminate the cases above, it is necessary to generate a new metric. The new metric has the following form,\n",
    "\n",
    "$$ D = \\frac{coef2 \\cdot b + coef2 \\cdot c}{coef1 \\cdot a + coef2 \\cdot b + coef2 \\cdot c + \\frac{d}{coef1}}$$"
   ]
  },
  {
   "cell_type": "code",
   "execution_count": 12,
   "metadata": {},
   "outputs": [],
   "source": [
    "def mll(a,b,c,d, coefad=5, coefbc=1):\n",
    "    return (coefbc*b + coefbc*c) / (coefad*a + coefbc*b + coefbc*c + d/coefad)"
   ]
  },
  {
   "cell_type": "code",
   "execution_count": 13,
   "metadata": {},
   "outputs": [
    {
     "data": {
      "text/plain": [
       "array([0.  , 0.15, 0.15, 0.15, 0.15, 0.27, 0.27, 0.27, 0.27, 0.27, 0.27,\n",
       "       0.37, 0.37, 0.37, 0.37, 0.37, 0.44, 0.77, 0.77, 0.77, 0.77, 0.88,\n",
       "       0.88, 0.88, 0.88, 0.88, 0.88, 0.95, 0.95, 0.95, 0.95, 1.  ])"
      ]
     },
     "execution_count": 13,
     "metadata": {},
     "output_type": "execute_result"
    }
   ],
   "source": [
    "from leiap_survey.cluster import create_binary_metric_matrix\n",
    "create_binary_metric_matrix(assemblages.values, mll)[0]"
   ]
  },
  {
   "cell_type": "markdown",
   "metadata": {},
   "source": [
    "To explore how the choice of *coef1* and *coef2* affects the difference between assemblages, we plot the difference of the target assemblages versus the rest of the assemblages"
   ]
  },
  {
   "cell_type": "code",
   "execution_count": 14,
   "metadata": {},
   "outputs": [],
   "source": [
    "\n",
    "c1 = [3,5,7,9]\n",
    "c2 = [1,2,3,5]\n",
    "\n",
    "coef1 = [ c for c in c1 for i in range(len(c1))]\n",
    "coef2 = c2* len(c1)\n",
    "all_coefs = zip(coef1, coef2)\n",
    "\n",
    "COEF1= []\n",
    "COEF2= []\n",
    "CASES= []\n",
    "D=[]\n",
    "\n",
    "# Loop through coeffients\n",
    "for c1, c2 in all_coefs:\n",
    "    rslt = create_binary_metric_matrix(assemblages.values, mll, coefad= c1, coefbc=c2)  \n",
    "    COEF1 += [c1]*len(rslt[0].tolist())\n",
    "    COEF2 += [c2]*len(rslt[0].tolist())\n",
    "    CASES += cases\n",
    "    D += rslt[0].tolist()"
   ]
  },
  {
   "cell_type": "code",
   "execution_count": 15,
   "metadata": {},
   "outputs": [
    {
     "data": {
      "image/png": "[encoded data removed]",
      "text/plain": [
       "<Figure size 1440x1440 with 16 Axes>"
      ]
     },
     "metadata": {},
     "output_type": "display_data"
    }
   ],
   "source": [
    "sns.set_style('dark')\n",
    "sns.set(font_scale = 1.55)\n",
    "\n",
    "# prepare dataframe for plotting\n",
    "df = pd.DataFrame({'D': D, 'coef1':COEF1, 'coef2':COEF2,'cases': CASES})\n",
    "\n",
    "# plot\n",
    "sns.relplot(data= df, x='cases', y= 'D', col='coef1', row='coef2', kind='line', linewidth= 2);\n"
   ]
  },
  {
   "cell_type": "markdown",
   "metadata": {},
   "source": [
    "Based on the above results, we suggest the following,\n",
    "\n",
    "$$ D_{mll} = \\frac{b+c}{5a +b +c + \\frac{d}{5}}$$\n",
    "\n",
    "While the choice was ultimately arbitrary, this set of coefficients (coef1= 5, coef2=1 ) allow us to set a clear demarcation between similar from dissimilar assemblages while maintaining a relatively even distribution of coefficient values between the similar and dissimilar assemblages. Larger differentiation can be obtained by subsituting these coefficients as shown in the plot above."
   ]
  },
  {
   "cell_type": "markdown",
   "metadata": {},
   "source": [
    "This binary distance metric will be used to differentiate assemblages based on use."
   ]
  },
  {
   "cell_type": "code",
   "execution_count": 16,
   "metadata": {},
   "outputs": [
    {
     "data": {
      "text/plain": [
       "array([ 0,  1,  2,  3,  4,  5,  6,  7,  8,  9, 10, 11, 12, 13, 14, 15, 16,\n",
       "       17, 18, 19, 20, 21, 22, 23, 24, 25, 26, 27, 28, 29, 30, 31])"
      ]
     },
     "execution_count": 16,
     "metadata": {},
     "output_type": "execute_result"
    }
   ],
   "source": [
    "x = np.arange(32)\n",
    "x"
   ]
  },
  {
   "cell_type": "code",
   "execution_count": 17,
   "metadata": {},
   "outputs": [
    {
     "data": {
      "text/plain": [
       "array([0.  , 0.15, 0.15, 0.15, 0.15, 0.27, 0.27, 0.27, 0.27, 0.27, 0.27,\n",
       "       0.37, 0.37, 0.37, 0.37, 0.37, 0.44, 0.77, 0.77, 0.77, 0.77, 0.88,\n",
       "       0.88, 0.88, 0.88, 0.88, 0.88, 0.95, 0.95, 0.95, 0.95, 1.  ])"
      ]
     },
     "execution_count": 17,
     "metadata": {},
     "output_type": "execute_result"
    }
   ],
   "source": [
    "y = create_binary_metric_matrix(assemblages.values, mll)[0]\n",
    "y"
   ]
  },
  {
   "cell_type": "code",
   "execution_count": 18,
   "metadata": {},
   "outputs": [
    {
     "data": {
      "text/plain": [
       "(32, 32)"
      ]
     },
     "execution_count": 18,
     "metadata": {},
     "output_type": "execute_result"
    }
   ],
   "source": [
    "len(x), len(y)"
   ]
  },
  {
   "cell_type": "code",
   "execution_count": 19,
   "metadata": {},
   "outputs": [
    {
     "data": {
      "image/png": "[encoded data removed]",
      "text/plain": [
       "<Figure size 720x576 with 1 Axes>"
      ]
     },
     "metadata": {},
     "output_type": "display_data"
    }
   ],
   "source": [
    "# plot\n",
    "xy = np.array([[1, 16, 16, 1], [0, 0, 1, 1]]).T\n",
    "p1 = Polygon(xy, color= 'blue', alpha=0.15)\n",
    "xy = np.array([[16.05, 31, 31, 16.05], [0, 0, 1, 1]]).T\n",
    "p2 = Polygon(xy, color= 'red', alpha=0.15)\n",
    "\n",
    "\n",
    "fig, ax = plt.subplots(figsize= (10,8))\n",
    "sns.lineplot(x = x, y = y, ax = ax, color='gray')\n",
    "sns.despine(right= True, top= True, left= True)\n",
    "ax.add_patch(p1)\n",
    "ax.add_patch(p2)\n",
    "ax.set_title('Assemblage Similarity', fontsize= 14)\n",
    "ax.set_xlim((1,30))\n",
    "ax.set_xticks([1]+list(range(5,31,5)))\n",
    "ax.set_xlabel('Cases');\n"
   ]
  },
  {
   "cell_type": "markdown",
   "metadata": {},
   "source": [
    "##### Quick check that metric is symmetrical"
   ]
  },
  {
   "cell_type": "code",
   "execution_count": 20,
   "metadata": {},
   "outputs": [
    {
     "data": {
      "text/plain": [
       "True"
      ]
     },
     "execution_count": 20,
     "metadata": {},
     "output_type": "execute_result"
    }
   ],
   "source": [
    "M = create_binary_metric_matrix(assemblages.values, mll)\n",
    "np.allclose(M, M.T, rtol= 1e-05, atol=1e-08)"
   ]
  },
  {
   "cell_type": "code",
   "execution_count": null,
   "metadata": {},
   "outputs": [],
   "source": []
  }
 ],
 "metadata": {
  "jupytext": {
   "formats": "ipynb,py:light"
  },
  "kernelspec": {
   "display_name": "Python 3",
   "language": "python",
   "name": "python3"
  },
  "language_info": {
   "codemirror_mode": {
    "name": "ipython",
    "version": 3
   },
   "file_extension": ".py",
   "mimetype": "text/x-python",
   "name": "python",
   "nbconvert_exporter": "python",
   "pygments_lexer": "ipython3",
   "version": "3.9.2"
  }
 },
 "nbformat": 4,
 "nbformat_minor": 4
}
